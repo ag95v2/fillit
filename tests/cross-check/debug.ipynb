{
 "cells": [
  {
   "cell_type": "code",
   "execution_count": 1,
   "metadata": {
    "collapsed": true
   },
   "outputs": [],
   "source": [
    "import argparse\n",
    "\n",
    "parser = argparse.ArgumentParser()\n"
   ]
  },
  {
   "cell_type": "code",
   "execution_count": 1,
   "metadata": {},
   "outputs": [
    {
     "name": "stdout",
     "output_type": "stream",
     "text": [
      "Making a binary from: /home/anton/21/fillit/tests/cross-check/miniponps\n",
      "Making a binary from: /home/anton/21/fillit/tests/cross-check/jemmeh\n",
      "Making a binary from: /home/anton/21/fillit/tests/cross-check/pbondoer\n",
      "Making our binary\n",
      "Got:  ['fillit_our', 'fillit_miniponps', 'fillit_pbondoer', 'fillit_jemmeh']\n",
      "Our and miniponps's output differ\n",
      "Our and pbondoer's output differ\n",
      "Our and jemmeh's output differ\n",
      "********************************************************************************\n",
      "We found a bug, congrats.\n",
      "Look at input and output of aforementioned programs.\n",
      "Terminating script, doing performance dump at performance_summary.txt\n"
     ]
    },
    {
     "ename": "SystemExit",
     "evalue": "",
     "output_type": "error",
     "traceback": [
      "An exception has occurred, use %tb to see the full traceback.\n",
      "\u001b[0;31mSystemExit\u001b[0m\n"
     ]
    },
    {
     "name": "stderr",
     "output_type": "stream",
     "text": [
      "/home/anton/anaconda3/lib/python3.6/site-packages/IPython/core/interactiveshell.py:2918: UserWarning: To exit: use 'exit', 'quit', or Ctrl-D.\n",
      "  warn(\"To exit: use 'exit', 'quit', or Ctrl-D.\", stacklevel=1)\n"
     ]
    }
   ],
   "source": [
    "import os\n",
    "import sys\n",
    "import glob\n",
    "import time\n",
    "\n",
    "\n",
    "old_dir = os.getcwd()\n",
    "dirs = glob.glob(old_dir + '/*/')\n",
    "\n",
    "\n",
    "for d in dirs:\n",
    "    os.chdir(d)\n",
    "    print(\"Making a binary from: {}\".format(os.getcwd()))\n",
    "    os.system(\"make re\")\n",
    "    name = 'fillit_' + d.split('/')[-2] \n",
    "    os.system(\"mv fillit {}/{}\".format(old_dir, name))\n",
    "\n",
    "os.chdir(old_dir)\n",
    "\n",
    "os.chdir('../random_input_generator/')\n",
    "os.system(\"make \")\n",
    "os.system(\"mv random_input_generator {}/random_input_generator\".format(old_dir))\n",
    "os.chdir(old_dir)\n",
    "\n",
    "print(\"Making our binary\")\n",
    "os.chdir('../../')\n",
    "os.system(\"make \")\n",
    "os.system(\"cp fillit {}/fillit_our\".format(old_dir))\n",
    "os.chdir(old_dir)\n",
    "\n",
    "fillit_binaries = [i for i in filter (lambda x: \"fillit\" in x, os.listdir())]\n",
    "\n",
    "print(\"Got: \" , fillit_binaries)\n",
    "\n",
    "def gen_rnd_input(n_tetr):\n",
    "    os.system(\"./random_input_generator {} > input.txt\".format(n_tetr))\n",
    "\n",
    "performance_summary = dict()\n",
    "for name in fillit_binaries:\n",
    "    performance_summary[name] = 0\n",
    "\n",
    "def run_test(n_tetr):\n",
    "    gen_rnd_input(n_tetr)\n",
    "\n",
    "    for name in fillit_binaries:\n",
    "        start = time.time()\n",
    "        os.system(\"./{} input.txt > output_{}.txt\".format(name, name.split('_')[-1]))\n",
    "        end = time.time()\n",
    "        performance_summary[name] += end - start\n",
    "\n",
    "    exit_flag = 0\n",
    "    for name in fillit_binaries:\n",
    "        short = name.split('_')[-1]\n",
    "        out = os.popen('diff output_{}.txt output_our.txt'.format(short)).read()\n",
    "        if (len(out) > 0):\n",
    "            print(\"Our and {}'s output differ\".format(short))\n",
    "            exit_flag = 1\n",
    "    \n",
    "    if (exit_flag == 1):\n",
    "        print('*' * 80)\n",
    "        print(\"We found a bug, congrats.\")\n",
    "        print(\"Look at input and output of aforementioned programs.\")\n",
    "        print(\"Terminating script, doing performance dump at performance_summary.txt\")\n",
    "        print(performance_summary,file= open(\"performance_summary.txt\", \"w\"))\n",
    "        sys.exit()\n",
    "\n",
    "def run_n_tests(n_tetr, n_tests):\n",
    "    '''\n",
    "        Run n_tests random experinents\n",
    "    '''\n",
    "    for i in range(n_tests):\n",
    "        run_test(n_tetr)\n",
    "        \n",
    "    print(\"All {} tests passed!\".format(n_tests))\n",
    "    print(\"Performance summary:\")\n",
    "    print(performance_summary)\n",
    "\n",
    "run_n_tests(n_tetr=2, n_tests=2000)"
   ]
  }
 ],
 "metadata": {
  "kernelspec": {
   "display_name": "Python 3",
   "language": "python",
   "name": "python3"
  },
  "language_info": {
   "codemirror_mode": {
    "name": "ipython",
    "version": 3
   },
   "file_extension": ".py",
   "mimetype": "text/x-python",
   "name": "python",
   "nbconvert_exporter": "python",
   "pygments_lexer": "ipython3",
   "version": "3.6.8"
  }
 },
 "nbformat": 4,
 "nbformat_minor": 2
}
